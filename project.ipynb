{
 "cells": [
  {
   "cell_type": "code",
   "execution_count": 3,
   "metadata": {},
   "outputs": [
    {
     "data": {
      "text/plain": [
       "12-element Vector{Any}:\n",
       " \"A\"\n",
       " \"B\"\n",
       " \"C\"\n",
       " \"D\"\n",
       " \"E\"\n",
       " \"I\"\n",
       " \"α\"\n",
       " \"β\"\n",
       " \"γ\"\n",
       " \"δ\"\n",
       " \"ϵ\"\n",
       " \"ϕ\""
      ]
     },
     "metadata": {},
     "output_type": "display_data"
    }
   ],
   "source": [
    "english = [\"A\", \"B\", \"C\", \"D\", \"E\", \"I\"];\n",
    "greek = [\"α\", \"β\", \"γ\", \"δ\", \"ϵ\", \"ϕ\"];\n",
    "alphabets = [];\n",
    "\n",
    "append!(alphabets, english)\n",
    "append!(alphabets, greek)"
   ]
  },
  {
   "cell_type": "code",
   "execution_count": 4,
   "metadata": {},
   "outputs": [],
   "source": [
    "P = Dict();\n",
    "for alphabet in alphabets\n",
    "    if alphabet ∈ greek\n",
    "        P[alphabet] = 1 // 12;\n",
    "    elseif alphabet ∈ [\"A\", \"E\", \"I\"]\n",
    "        P[alphabet] = 1 // 9;\n",
    "    else\n",
    "        P[alphabet] = 1 // 18;\n",
    "    end\n",
    "end"
   ]
  },
  {
   "cell_type": "code",
   "execution_count": 10,
   "metadata": {},
   "outputs": [],
   "source": [
    "P_2 = Dict();\n",
    "for (alphabet, probability) in P\n",
    "    for (alphabet_2, probability_2) in P\n",
    "        P_2[alphabet * alphabet_2] = probability * probability_2;\n",
    "    end\n",
    "end\n",
    "\n",
    "P_3 = Dict();\n",
    "for (alphabet, probability) in P\n",
    "    for (alphabet_2, probability_2) in P_2\n",
    "        P_3[alphabet * alphabet_2] = probability * probability_2;\n",
    "    end\n",
    "end"
   ]
  },
  {
   "cell_type": "code",
   "execution_count": 5,
   "metadata": {},
   "outputs": [
    {
     "name": "stdout",
     "output_type": "stream",
     "text": [
      "Any['C', 'B', 'D', 'ϵ', 'δ', 'ϕ', 'α', 'γ', 'β', 'A', 'E', 'I']\n",
      "Any[1//18, 1//18, 1//18, 1//12, 1//12, 1//12, 1//12, 1//12, 1//12, 1//9, 1//9, 1//9]\n",
      "Any[1//18, 1//12, 1//12, 1//18, 1//18, 1//12, 1//12, 1//9, 1//9, 1//12, 1//12, 1//9]\n"
     ]
    },
    {
     "data": {
      "text/plain": [
       "(Any[1//18, 1//18, 1//18, 1//12, 1//12, 1//12, 1//12, 1//12, 1//12, 1//9, 1//9, 1//9], Any['C', 'B', 'D', 'ϵ', 'δ', 'ϕ', 'α', 'γ', 'β', 'A', 'E', 'I'], Dict{Any, Any}(\"C\" => 1//18, \"ϵ\" => 1//12, \"δ\" => 1//12, \"B\" => 1//18, \"A\" => 1//9, \"ϕ\" => 1//12, \"D\" => 1//18, \"α\" => 1//12, \"E\" => 1//9, \"γ\" => 1//12…))"
      ]
     },
     "metadata": {},
     "output_type": "display_data"
    }
   ],
   "source": [
    "function sort_prob(P_Dict)\n",
    "    probabilities = [];\n",
    "    alphabets = [];\n",
    "    for (alphabet, probability) in P_Dict\n",
    "        append!(probabilities, probability)\n",
    "        append!(alphabets, alphabet)\n",
    "    end\n",
    "\n",
    "    sorted_idx = sortperm(probabilities);\n",
    "    probabilities = probabilities[sorted_idx];\n",
    "    alphabets = alphabets[sorted_idx];\n",
    "\n",
    "    println(\"$alphabets\")\n",
    "    println(\"$probabilities\")\n",
    "    println(\"$(probabilities[sorted_idx])\")\n",
    "\n",
    "    P_sorted_dict = Dict();\n",
    "    for (idx, probability) in enumerate(probabilities)\n",
    "        P_sorted_dict[ string(alphabets[idx]) ] = probability\n",
    "    end\n",
    "    return probabilities, alphabets, P_sorted_dict\n",
    "end\n",
    "\n",
    "probabilities, alphabets, P_sorted_dict = sort_prob(P)"
   ]
  },
  {
   "cell_type": "code",
   "execution_count": 6,
   "metadata": {},
   "outputs": [],
   "source": [
    "mutable struct huffman_node{A, B}\n",
    "    code::A\n",
    "    probability::B\n",
    "    left::Union{Nothing, huffman_node}\n",
    "    right::Union{Nothing, huffman_node}\n",
    "end\n",
    "# For Huffman Leaf Construction:\n",
    "huffman_node(x::A, y::B) where A where B = huffman_node{A, B}(x, y, nothing, nothing)\n",
    "\n",
    "function construct_huffman_tree(P_sorted_dict)\n",
    "    trees = [huffman_node( alphabet, probability) for (alphabet, probability) in P_sorted_dict]\n",
    "    while length(trees) > 1\n",
    "        sort!(trees, lt = (x, y) -> x.probability < y.probability)\n",
    "        smallest = popfirst!(trees)\n",
    "        next_smallest = popfirst!(trees)\n",
    "        tree = huffman_node(\"s\", smallest.probability + next_smallest.probability)\n",
    "        tree.left = smallest\n",
    "        tree.right = next_smallest\n",
    "        push!(trees, tree )\n",
    "    end\n",
    "    return trees[1]\n",
    "end\n",
    "\n",
    "huffman_tree = construct_huffman_tree(P_sorted_dict)"
   ]
  },
  {
   "cell_type": "code",
   "execution_count": 13,
   "metadata": {},
   "outputs": [
    {
     "name": "stdout",
     "output_type": "stream",
     "text": [
      "  0.024813 seconds (51.58 k allocations: 2.474 MiB, 99.76% compilation time)\n"
     ]
    },
    {
     "data": {
      "text/plain": [
       "\"\""
      ]
     },
     "metadata": {},
     "output_type": "display_data"
    }
   ],
   "source": [
    "function print_encoding(node, code, encoder)\n",
    "    code *= \"0\"\n",
    "    if ~(isnothing(node.left))\n",
    "        print_encoding(node.left, code, encoder)\n",
    "    end\n",
    "    code = code[1:end-1]\n",
    "\n",
    "    code *= \"1\"\n",
    "    if ~(isnothing(node.right))\n",
    "        print_encoding(node.right, code, encoder)\n",
    "    end\n",
    "    code = code[1:end-1]\n",
    "    encoder[node.code] = code\n",
    "\n",
    "end\n",
    "\n",
    "encoder = Dict()\n",
    "@time print_encoding(trees[1], \"\", encoder)"
   ]
  },
  {
   "cell_type": "code",
   "execution_count": 14,
   "metadata": {},
   "outputs": [
    {
     "data": {
      "text/plain": [
       "Dict{Any, Any} with 13 entries:\n",
       "  \"C\" => \"1000\"\n",
       "  \"ϵ\" => \"1011\"\n",
       "  \"δ\" => \"1100\"\n",
       "  \"B\" => \"1001\"\n",
       "  \"s\" => \"\"\n",
       "  \"A\" => \"001\"\n",
       "  \"ϕ\" => \"1101\"\n",
       "  \"D\" => \"1010\"\n",
       "  \"α\" => \"1110\"\n",
       "  \"E\" => \"010\"\n",
       "  \"γ\" => \"1111\"\n",
       "  \"I\" => \"011\"\n",
       "  \"β\" => \"000\""
      ]
     },
     "metadata": {},
     "output_type": "display_data"
    }
   ],
   "source": [
    "encoder"
   ]
  },
  {
   "cell_type": "code",
   "execution_count": 9,
   "metadata": {},
   "outputs": [
    {
     "data": {
      "text/plain": [
       "3"
      ]
     },
     "metadata": {},
     "output_type": "display_data"
    }
   ],
   "source": [
    "length(encoder[\"A\"])"
   ]
  },
  {
   "cell_type": "code",
   "execution_count": null,
   "metadata": {},
   "outputs": [],
   "source": []
  }
 ],
 "metadata": {
  "kernelspec": {
   "display_name": "Julia 1.8.5",
   "language": "julia",
   "name": "julia-1.8"
  },
  "language_info": {
   "file_extension": ".jl",
   "mimetype": "application/julia",
   "name": "julia",
   "version": "1.8.5"
  },
  "orig_nbformat": 4
 },
 "nbformat": 4,
 "nbformat_minor": 2
}
