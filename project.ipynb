{
 "cells": [
  {
   "cell_type": "code",
   "execution_count": 1,
   "metadata": {},
   "outputs": [
    {
     "data": {
      "text/plain": [
       "12-element Vector{String}:\n",
       " \"A\"\n",
       " \"B\"\n",
       " \"C\"\n",
       " \"D\"\n",
       " \"E\"\n",
       " \"I\"\n",
       " \"α\"\n",
       " \"β\"\n",
       " \"γ\"\n",
       " \"δ\"\n",
       " \"ϵ\"\n",
       " \"ϕ\""
      ]
     },
     "metadata": {},
     "output_type": "display_data"
    }
   ],
   "source": [
    "english::Vector{String} = [\"A\", \"B\", \"C\", \"D\", \"E\", \"I\"];\n",
    "greek::Vector{String} = [\"α\", \"β\", \"γ\", \"δ\", \"ϵ\", \"ϕ\"];\n",
    "alphabets::Vector{String} = [];\n",
    "\n",
    "append!(alphabets, english)\n",
    "append!(alphabets, greek)"
   ]
  },
  {
   "cell_type": "code",
   "execution_count": 2,
   "metadata": {},
   "outputs": [
    {
     "data": {
      "text/plain": [
       "Dict{Any, Any} with 12 entries:\n",
       "  \"C\" => 1//18\n",
       "  \"ϵ\" => 1//12\n",
       "  \"δ\" => 1//12\n",
       "  \"B\" => 1//18\n",
       "  \"A\" => 1//9\n",
       "  \"ϕ\" => 1//12\n",
       "  \"D\" => 1//18\n",
       "  \"α\" => 1//12\n",
       "  \"E\" => 1//9\n",
       "  \"γ\" => 1//12\n",
       "  \"I\" => 1//9\n",
       "  \"β\" => 1//12"
      ]
     },
     "metadata": {},
     "output_type": "display_data"
    }
   ],
   "source": [
    "P = Dict();\n",
    "for alphabet in alphabets\n",
    "    if string(alphabet) ∈ greek\n",
    "        P[alphabet] = 1 // 12;\n",
    "    elseif string(alphabet) ∈ [\"A\", \"E\", \"I\"]\n",
    "        P[alphabet] = 1 // 9;\n",
    "    else\n",
    "        P[alphabet] = 1 // 18;\n",
    "    end\n",
    "end\n",
    "\n",
    "P"
   ]
  },
  {
   "cell_type": "code",
   "execution_count": 3,
   "metadata": {},
   "outputs": [],
   "source": [
    "P_2 = Dict();\n",
    "for (alphabet, probability) in P\n",
    "    for (alphabet_2, probability_2) in P\n",
    "        P_2[alphabet * alphabet_2] = probability * probability_2;\n",
    "    end\n",
    "end\n",
    "\n",
    "P_3 = Dict();\n",
    "for (alphabet, probability) in P\n",
    "    for (alphabet_2, probability_2) in P_2\n",
    "        P_3[alphabet * alphabet_2] = probability * probability_2;\n",
    "    end\n",
    "end"
   ]
  },
  {
   "cell_type": "code",
   "execution_count": 164,
   "metadata": {},
   "outputs": [
    {
     "name": "stdout",
     "output_type": "stream",
     "text": [
      "Any[\"C\", \"B\", \"D\", \"ϵ\", \"δ\", \"ϕ\", \"α\", \"γ\", \"β\", \"A\", \"E\", \"I\"]\n",
      "Any[1//18, 1//18, 1//18, 1//12, 1//12, 1//12, 1//12, 1//12, 1//12, 1//9, 1//9, 1//9]\n"
     ]
    },
    {
     "data": {
      "text/plain": [
       "(Any[1//18, 1//18, 1//18, 1//12, 1//12, 1//12, 1//12, 1//12, 1//12, 1//9, 1//9, 1//9], Any[\"C\", \"B\", \"D\", \"ϵ\", \"δ\", \"ϕ\", \"α\", \"γ\", \"β\", \"A\", \"E\", \"I\"], Dict{Any, Any}(\"C\" => 1//18, \"ϵ\" => 1//12, \"δ\" => 1//12, \"B\" => 1//18, \"A\" => 1//9, \"ϕ\" => 1//12, \"D\" => 1//18, \"α\" => 1//12, \"E\" => 1//9, \"γ\" => 1//12…))"
      ]
     },
     "metadata": {},
     "output_type": "display_data"
    }
   ],
   "source": [
    "function sort_prob(P_Dict)\n",
    "    probabilities = [];\n",
    "    alphabets = [];\n",
    "    for (alphabet, probability) in P_Dict\n",
    "        # println(\"$(typeof(alphabet))\")\n",
    "        push!(probabilities, probability)\n",
    "        push!(alphabets, alphabet)\n",
    "    end\n",
    "\n",
    "    sorted_idx = sortperm(probabilities);\n",
    "    probabilities = probabilities[sorted_idx];\n",
    "    alphabets = alphabets[sorted_idx];\n",
    "\n",
    "    println(\"$alphabets\")\n",
    "    println(\"$probabilities\")\n",
    "\n",
    "    P_sorted_dict = Dict();\n",
    "    for (idx, probability) in enumerate(probabilities)\n",
    "        P_sorted_dict[ string(alphabets[idx]) ] = probability\n",
    "    end\n",
    "    return probabilities, alphabets, P_sorted_dict\n",
    "end\n",
    "\n",
    "sorted_probabilities, sorted_alphabets, P_sorted_dict = sort_prob(P)"
   ]
  },
  {
   "cell_type": "code",
   "execution_count": 184,
   "metadata": {},
   "outputs": [
    {
     "data": {
      "text/plain": [
       "huffman_node{String, Rational{Int64}}(\"\", 1//1, huffman_node{String, Rational{Int64}}(\"\", 5//12, huffman_node{String, Rational{Int64}}(\"\", 7//36, huffman_node{String, Rational{Int64}}(\"β\", 1//12, nothing, nothing), huffman_node{String, Rational{Int64}}(\"A\", 1//9, nothing, nothing)), huffman_node{String, Rational{Int64}}(\"\", 2//9, huffman_node{String, Rational{Int64}}(\"E\", 1//9, nothing, nothing), huffman_node{String, Rational{Int64}}(\"I\", 1//9, nothing, nothing))), huffman_node{String, Rational{Int64}}(\"\", 7//12, huffman_node{String, Rational{Int64}}(\"\", 1//4, huffman_node{String, Rational{Int64}}(\"\", 1//9, huffman_node{String, Rational{Int64}}(\"C\", 1//18, nothing, nothing), huffman_node{String, Rational{Int64}}(\"B\", 1//18, nothing, nothing)), huffman_node{String, Rational{Int64}}(\"\", 5//36, huffman_node{String, Rational{Int64}}(\"D\", 1//18, nothing, nothing), huffman_node{String, Rational{Int64}}(\"ϵ\", 1//12, nothing, nothing))), huffman_node{String, Rational{Int64}}(\"\", 1//3, huffman_node{String, Rational{Int64}}(\"\", 1//6, huffman_node{String, Rational{Int64}}(\"δ\", 1//12, nothing, nothing), huffman_node{String, Rational{Int64}}(\"ϕ\", 1//12, nothing, nothing)), huffman_node{String, Rational{Int64}}(\"\", 1//6, huffman_node{String, Rational{Int64}}(\"α\", 1//12, nothing, nothing), huffman_node{String, Rational{Int64}}(\"γ\", 1//12, nothing, nothing)))))"
      ]
     },
     "metadata": {},
     "output_type": "display_data"
    }
   ],
   "source": [
    "mutable struct huffman_node{A, B}\n",
    "    code::A\n",
    "    probability::B\n",
    "    left::Union{Nothing, huffman_node}\n",
    "    right::Union{Nothing, huffman_node}\n",
    "end\n",
    "# For Huffman Leaf Construction:\n",
    "huffman_node(x::A, y::B) where A where B = huffman_node{A, B}(x, y, nothing, nothing)\n",
    "\n",
    "function construct_huffman_tree(P_sorted_dict)\n",
    "    trees = [huffman_node( alphabet, probability) for (alphabet, probability) in P_sorted_dict]\n",
    "    while length(trees) > 1\n",
    "        sort!(trees, lt = (x, y) -> x.probability < y.probability)\n",
    "        smallest = popfirst!(trees)\n",
    "        next_smallest = popfirst!(trees)\n",
    "        tree = huffman_node(\"\", smallest.probability + next_smallest.probability)\n",
    "        tree.left = smallest\n",
    "        tree.right = next_smallest\n",
    "        push!(trees, tree )\n",
    "    end\n",
    "    return trees[1]\n",
    "end\n",
    "\n",
    "huffman_tree = construct_huffman_tree(P_sorted_dict)"
   ]
  },
  {
   "cell_type": "code",
   "execution_count": 185,
   "metadata": {},
   "outputs": [
    {
     "name": "stdout",
     "output_type": "stream",
     "text": [
      "  0.023589 seconds (52.52 k allocations: 2.514 MiB, 99.79% compilation time)\n"
     ]
    },
    {
     "data": {
      "text/plain": [
       "Dict{Any, Any} with 12 entries:\n",
       "  \"C\" => \"1000\"\n",
       "  \"ϵ\" => \"1011\"\n",
       "  \"δ\" => \"1100\"\n",
       "  \"B\" => \"1001\"\n",
       "  \"A\" => \"001\"\n",
       "  \"ϕ\" => \"1101\"\n",
       "  \"D\" => \"1010\"\n",
       "  \"α\" => \"1110\"\n",
       "  \"E\" => \"010\"\n",
       "  \"γ\" => \"1111\"\n",
       "  \"I\" => \"011\"\n",
       "  \"β\" => \"000\""
      ]
     },
     "metadata": {},
     "output_type": "display_data"
    }
   ],
   "source": [
    "function print_encoding(node, code, encoder)\n",
    "    code *= \"0\"\n",
    "    if ~(isnothing(node.left))\n",
    "        print_encoding(node.left, code, encoder)\n",
    "    end\n",
    "    code = code[1:end-1]\n",
    "\n",
    "    code *= \"1\"\n",
    "    if ~(isnothing(node.right))\n",
    "        print_encoding(node.right, code, encoder)\n",
    "    end\n",
    "    code = code[1:end-1]\n",
    "    encoder[node.code] = code\n",
    "\n",
    "    delete!(encoder, \"\")\n",
    "end\n",
    "\n",
    "encoder = Dict()\n",
    "@time print_encoding(huffman_tree, \"\", encoder)"
   ]
  },
  {
   "cell_type": "code",
   "execution_count": 186,
   "metadata": {},
   "outputs": [
    {
     "data": {
      "text/plain": [
       "Dict{Any, Any} with 12 entries:\n",
       "  \"C\" => \"1000\"\n",
       "  \"ϵ\" => \"1011\"\n",
       "  \"δ\" => \"1100\"\n",
       "  \"B\" => \"1001\"\n",
       "  \"A\" => \"001\"\n",
       "  \"ϕ\" => \"1101\"\n",
       "  \"D\" => \"1010\"\n",
       "  \"α\" => \"1110\"\n",
       "  \"E\" => \"010\"\n",
       "  \"γ\" => \"1111\"\n",
       "  \"I\" => \"011\"\n",
       "  \"β\" => \"000\""
      ]
     },
     "metadata": {},
     "output_type": "display_data"
    }
   ],
   "source": [
    "encoder"
   ]
  },
  {
   "cell_type": "code",
   "execution_count": 183,
   "metadata": {},
   "outputs": [
    {
     "data": {
      "text/plain": [
       "Dict{Any, Any} with 13 entries:\n",
       "  \"C\" => \"1000\"\n",
       "  \"ϵ\" => \"1011\"\n",
       "  \"δ\" => \"1100\"\n",
       "  \"B\" => \"1001\"\n",
       "  \"s\" => \"\"\n",
       "  \"A\" => \"001\"\n",
       "  \"ϕ\" => \"1101\"\n",
       "  \"D\" => \"1010\"\n",
       "  \"α\" => \"1110\"\n",
       "  \"E\" => \"010\"\n",
       "  \"γ\" => \"1111\"\n",
       "  \"I\" => \"011\"\n",
       "  \"β\" => \"000\""
      ]
     },
     "metadata": {},
     "output_type": "display_data"
    }
   ],
   "source": [
    "delete!(encoder, \"\")"
   ]
  },
  {
   "cell_type": "code",
   "execution_count": 9,
   "metadata": {},
   "outputs": [
    {
     "data": {
      "text/plain": [
       "12"
      ]
     },
     "metadata": {},
     "output_type": "display_data"
    }
   ],
   "source": [
    "length(encoder)"
   ]
  },
  {
   "cell_type": "code",
   "execution_count": 10,
   "metadata": {},
   "outputs": [
    {
     "data": {
      "text/plain": [
       "43//12"
      ]
     },
     "metadata": {},
     "output_type": "display_data"
    }
   ],
   "source": [
    "# encoder   : Dictionary encoding alphabet -> codeword\n",
    "# P         : Dictionary describing probability mass function (alphabet -> probability)\n",
    "expected_length(encoder, P) = sum([P[alphabet] * length(codeword) for (alphabet, codeword) in encoder])\n",
    "\n",
    "expected_length(encoder, P)"
   ]
  },
  {
   "cell_type": "code",
   "execution_count": 11,
   "metadata": {},
   "outputs": [
    {
     "data": {
      "text/plain": [
       "1//1"
      ]
     },
     "metadata": {},
     "output_type": "display_data"
    }
   ],
   "source": [
    "function mcmillan_inequality(encoder)\n",
    "    value = sum([ (2//1) ^ (-1 * length(codeword)) for (___, codeword) in encoder]);\n",
    "    return value\n",
    "end\n",
    "\n",
    "mcmillan_inequality(encoder)"
   ]
  },
  {
   "cell_type": "code",
   "execution_count": 12,
   "metadata": {},
   "outputs": [],
   "source": [
    "P_Y = Dict();\n",
    "P_Y[\"english\"] = 0;\n",
    "P_Y[\"greek\"] = 0;\n",
    "for alphabet in alphabets\n",
    "    if string(alphabet) ∈ english\n",
    "        P_Y[\"english\"] += P[alphabet];\n",
    "    elseif string(alphabet) ∈ greek\n",
    "        P_Y[\"greek\"] += P[alphabet];\n",
    "    end\n",
    "end"
   ]
  },
  {
   "cell_type": "code",
   "execution_count": 13,
   "metadata": {},
   "outputs": [
    {
     "data": {
      "text/plain": [
       "Dict{Any, Any} with 2 entries:\n",
       "  \"greek\"   => 1//2\n",
       "  \"english\" => 1//2"
      ]
     },
     "metadata": {},
     "output_type": "display_data"
    }
   ],
   "source": [
    "P_Y"
   ]
  },
  {
   "cell_type": "code",
   "execution_count": 189,
   "metadata": {},
   "outputs": [
    {
     "name": "stdout",
     "output_type": "stream",
     "text": [
      "Going left\n",
      "Going left\n",
      "Going left\n",
      "Successfuly Decoded: β\n",
      "Going left\n",
      "Going Right\n",
      "Going left\n",
      "Successfuly Decoded: E\n"
     ]
    },
    {
     "data": {
      "text/plain": [
       "\"βE\\0\""
      ]
     },
     "metadata": {},
     "output_type": "display_data"
    }
   ],
   "source": [
    "function decode_huffman(huffman_tree, codeword)\n",
    "    ans = \"\"\n",
    "    curr = huffman_tree\n",
    "\n",
    "    is_leaf(node) = isnothing(node.left) && isnothing(node.right)\n",
    "    for idx in eachindex(codeword) #idx = 1:length(codeword)\n",
    "        if string(codeword[idx]) == \"0\" && ~( is_leaf(curr) )\n",
    "            println(\"Going left\")\n",
    "            curr = curr.left\n",
    "        elseif string(codeword[idx]) == \"1\" && ~( is_leaf(curr) )\n",
    "            println(\"Going Right\")\n",
    "            curr = curr.right\n",
    "        end\n",
    "\n",
    "        if is_leaf(curr)\n",
    "            println(\"Successfuly Decoded: $(curr.code)\")\n",
    "            ans *= curr.code\n",
    "            curr = huffman_tree\n",
    "        end\n",
    "    end\n",
    "\n",
    "    return ans * \"\\0\"\n",
    "end\n",
    "\n",
    "decode_huffman(huffman_tree, \"000010\")"
   ]
  },
  {
   "cell_type": "code",
   "execution_count": 15,
   "metadata": {},
   "outputs": [
    {
     "data": {
      "text/plain": [
       "huffman_node{String, Rational{Int64}}(\"s\", 1//1, huffman_node{String, Rational{Int64}}(\"s\", 5//12, huffman_node{String, Rational{Int64}}(\"s\", 7//36, huffman_node{String, Rational{Int64}}(\"β\", 1//12, nothing, nothing), huffman_node{String, Rational{Int64}}(\"A\", 1//9, nothing, nothing)), huffman_node{String, Rational{Int64}}(\"s\", 2//9, huffman_node{String, Rational{Int64}}(\"E\", 1//9, nothing, nothing), huffman_node{String, Rational{Int64}}(\"I\", 1//9, nothing, nothing))), huffman_node{String, Rational{Int64}}(\"s\", 7//12, huffman_node{String, Rational{Int64}}(\"s\", 1//4, huffman_node{String, Rational{Int64}}(\"s\", 1//9, huffman_node{String, Rational{Int64}}(\"C\", 1//18, nothing, nothing), huffman_node{String, Rational{Int64}}(\"B\", 1//18, nothing, nothing)), huffman_node{String, Rational{Int64}}(\"s\", 5//36, huffman_node{String, Rational{Int64}}(\"D\", 1//18, nothing, nothing), huffman_node{String, Rational{Int64}}(\"ϵ\", 1//12, nothing, nothing))), huffman_node{String, Rational{Int64}}(\"s\", 1//3, huffman_node{String, Rational{Int64}}(\"s\", 1//6, huffman_node{String, Rational{Int64}}(\"δ\", 1//12, nothing, nothing), huffman_node{String, Rational{Int64}}(\"ϕ\", 1//12, nothing, nothing)), huffman_node{String, Rational{Int64}}(\"s\", 1//6, huffman_node{String, Rational{Int64}}(\"α\", 1//12, nothing, nothing), huffman_node{String, Rational{Int64}}(\"γ\", 1//12, nothing, nothing)))))"
      ]
     },
     "metadata": {},
     "output_type": "display_data"
    }
   ],
   "source": [
    "huffman_tree"
   ]
  },
  {
   "cell_type": "code",
   "execution_count": 19,
   "metadata": {},
   "outputs": [],
   "source": [
    "P_english = Dict();\n",
    "P_greek = Dict();\n",
    "for alphabet in alphabets\n",
    "    if string(alphabet) ∈ greek\n",
    "        P_greek[alphabet] = 1 // 12 // (1 // 2);\n",
    "    elseif string(alphabet) ∈ [\"A\", \"E\", \"I\"]\n",
    "        P_english[alphabet] = 1 // 9 // (1 // 2);\n",
    "    else\n",
    "        P_english[alphabet] = 1 // 18 // (1 // 2);\n",
    "    end\n",
    "end\n"
   ]
  },
  {
   "cell_type": "code",
   "execution_count": 26,
   "metadata": {},
   "outputs": [
    {
     "name": "stdout",
     "output_type": "stream",
     "text": [
      "Any['B', 'C', 'D', 'A', 'I', 'E']\n",
      "Any[1//9, 1//9, 1//9, 2//9, 2//9, 2//9]\n",
      "Any['γ', 'ϕ', 'ϵ', 'α', 'δ', 'β']\n",
      "Any[1//6, 1//6, 1//6, 1//6, 1//6, 1//6]\n"
     ]
    }
   ],
   "source": [
    "___, ___, P_sorted_english = sort_prob(P_english)\n",
    "___, ___, P_sorted_greek = sort_prob(P_greek)\n",
    "\n",
    "encoder_english = Dict();\n",
    "encoder_greek = Dict();\n",
    "huffman_english = construct_huffman_tree(P_sorted_english);\n",
    "huffman_greek = construct_huffman_tree(P_sorted_greek);\n",
    "\n",
    "print_encoding(huffman_english, \"\", encoder_english);\n",
    "print_encoding(huffman_greek, \"\", encoder_greek);\n",
    "\n",
    "delete!(encoder_english, \"s\");\n",
    "delete!(encoder_greek, \"s\");"
   ]
  },
  {
   "cell_type": "code",
   "execution_count": 33,
   "metadata": {},
   "outputs": [],
   "source": [
    "encoder_side_info = Dict();\n",
    "merge!(encoder_side_info, encoder_english, encoder_greek);"
   ]
  },
  {
   "cell_type": "code",
   "execution_count": 36,
   "metadata": {},
   "outputs": [
    {
     "data": {
      "text/plain": [
       "47//18"
      ]
     },
     "metadata": {},
     "output_type": "display_data"
    }
   ],
   "source": [
    "expected_length(encoder_side_info, P)"
   ]
  },
  {
   "cell_type": "code",
   "execution_count": 55,
   "metadata": {},
   "outputs": [],
   "source": [
    "language_dict = Dict();\n",
    "for alphabet in alphabets\n",
    "    if alphabet ∈ english\n",
    "        language_dict[alphabet] = \"e\";\n",
    "    elseif alphabet ∈ greek\n",
    "        language_dict[alphabet] = \"g\";\n",
    "    end\n",
    "end\n"
   ]
  },
  {
   "cell_type": "code",
   "execution_count": 128,
   "metadata": {},
   "outputs": [
    {
     "data": {
      "text/plain": [
       "permutation_with_repetition (generic function with 1 method)"
      ]
     },
     "metadata": {},
     "output_type": "display_data"
    }
   ],
   "source": [
    "#=\n",
    "values  : Vector containing all values to permute thru\n",
    "k       : Number of Permutations to go\n",
    "=#\n",
    "function permutation_with_repetition(values, k)\n",
    "    x = vec(collect(Base.Iterators.product(Base.Iterators.repeated(values, k)...)))\n",
    "    y = [];\n",
    "    for tup in x\n",
    "        dummy = [];\n",
    "        for (idx, value) in enumerate(tup)\n",
    "            append!(dummy, value);\n",
    "        end\n",
    "        push!(y, dummy)\n",
    "    end\n",
    "\n",
    "    return y\n",
    "end"
   ]
  },
  {
   "cell_type": "code",
   "execution_count": 129,
   "metadata": {},
   "outputs": [
    {
     "data": {
      "text/plain": [
       "32-element Vector{Any}:\n",
       " Any['0', '0', '0', '0', '0']\n",
       " Any['1', '0', '0', '0', '0']\n",
       " Any['0', '1', '0', '0', '0']\n",
       " Any['1', '1', '0', '0', '0']\n",
       " Any['0', '0', '1', '0', '0']\n",
       " Any['1', '0', '1', '0', '0']\n",
       " Any['0', '1', '1', '0', '0']\n",
       " Any['1', '1', '1', '0', '0']\n",
       " Any['0', '0', '0', '1', '0']\n",
       " Any['1', '0', '0', '1', '0']\n",
       " ⋮\n",
       " Any['1', '1', '1', '0', '1']\n",
       " Any['0', '0', '0', '1', '1']\n",
       " Any['1', '0', '0', '1', '1']\n",
       " Any['0', '1', '0', '1', '1']\n",
       " Any['1', '1', '0', '1', '1']\n",
       " Any['0', '0', '1', '1', '1']\n",
       " Any['1', '0', '1', '1', '1']\n",
       " Any['0', '1', '1', '1', '1']\n",
       " Any['1', '1', '1', '1', '1']"
      ]
     },
     "metadata": {},
     "output_type": "display_data"
    }
   ],
   "source": [
    "y = permutation_with_repetition([\"0\", \"1\"], 5)"
   ]
  },
  {
   "cell_type": "code",
   "execution_count": 208,
   "metadata": {},
   "outputs": [],
   "source": [
    "# import Pkg; Pkg.add(\"Combinatorics\")\n",
    "using Combinatorics\n",
    "block_length = 2;\n",
    "    \n",
    "#=\n",
    "sorted_alphabets    : Sorted Source Symbols according to its probabilities\n",
    "sorted_probabilities: Sorted Probabilities corresponding to source symbols\n",
    "block_length        : Length of Block on blocking symbols (Ex. aa -> 2)\n",
    "\n",
    "Output:\n",
    "blocks              : Vector containing all possible block codes using the defined source symbols\n",
    "prob_blocks         : Corresponding Probabilities of the block codes\n",
    "=#\n",
    "function create_block_coding(sorted_alphabets, sorted_probabilities, block_length=2)\n",
    "    possibilites = collect(permutation_with_repetition(sorted_alphabets, block_length))\n",
    "    blocks = [prod(block_alphabets) for block_alphabets in possibilites]\n",
    "    prob = collect(permutation_with_repetition(sorted_probabilities, block_length))\n",
    "    \n",
    "    prob_blocks = [prod(block_prob) for block_prob in prob]\n",
    "    # println(\"possibilites: $possibilites\")\n",
    "    # println(\"prob: $prob\")\n",
    "    \n",
    "\n",
    "    return blocks, prob_blocks\n",
    "end\n",
    "alphabet_2_list, prob_2_list = create_block_coding(sorted_alphabets, sorted_probabilities, 2);\n",
    "\n",
    "side_info_2 = create_side_information_codebook(alphabet_2_list, language_dict);"
   ]
  },
  {
   "cell_type": "code",
   "execution_count": 209,
   "metadata": {},
   "outputs": [
    {
     "data": {
      "text/plain": [
       "Dict{Any, Any} with 144 entries:\n",
       "  \"DC\" => \"ee\"\n",
       "  \"αD\" => \"ge\"\n",
       "  \"δα\" => \"gg\"\n",
       "  \"EC\" => \"ee\"\n",
       "  \"DB\" => \"ee\"\n",
       "  \"γA\" => \"ge\"\n",
       "  \"CC\" => \"ee\"\n",
       "  \"BC\" => \"ee\"\n",
       "  \"BB\" => \"ee\"\n",
       "  \"Eϕ\" => \"eg\"\n",
       "  \"Dγ\" => \"eg\"\n",
       "  \"Bβ\" => \"eg\"\n",
       "  \"Dα\" => \"eg\"\n",
       "  \"ϵA\" => \"ge\"\n",
       "  \"αα\" => \"gg\"\n",
       "  \"αϕ\" => \"gg\"\n",
       "  \"ϕA\" => \"ge\"\n",
       "  \"ϕI\" => \"ge\"\n",
       "  \"γγ\" => \"gg\"\n",
       "  ⋮    => ⋮"
      ]
     },
     "metadata": {},
     "output_type": "display_data"
    }
   ],
   "source": [
    "side_info_2"
   ]
  },
  {
   "cell_type": "code",
   "execution_count": 204,
   "metadata": {},
   "outputs": [
    {
     "data": {
      "text/plain": [
       "create_side_information_codebook (generic function with 1 method)"
      ]
     },
     "metadata": {},
     "output_type": "display_data"
    }
   ],
   "source": [
    "#=\n",
    "\n",
    "Input:\n",
    "block_symbols   : Vector containing all possible (partitioned) block symbols\n",
    "side_info_dict  : Dictionary mapping symbol => side information symbol\n",
    "                    Ex. [a, b, c, γ, ϕ] => [e, e, e, g, g]\n",
    "                        where e: English letters, g: Greek letters\n",
    "Output:\n",
    "side_informations   : Dictionary mapping block symbols => side information block symbol\n",
    "                    Ex. \"abγ\" => \"eeg\"\n",
    "=#\n",
    "function create_side_information_codebook(block_symbols, side_info_dict)\n",
    "    side_informations = Dict();\n",
    "\n",
    "    # Concatenating symbols in each block\n",
    "    # blocks = [prod(block_symbol) for block_symbol in block_symbols];\n",
    "    for (idx, block_symbol) in enumerate(block_symbols)\n",
    "        side_info = \"\";\n",
    "        for symbol in block_symbol\n",
    "            side_info *= side_info_dict[string(symbol)]\n",
    "        end\n",
    "        side_informations[ prod(block_symbol) ] = side_info;\n",
    "    end\n",
    "\n",
    "    return side_informations\n",
    "end"
   ]
  },
  {
   "cell_type": "code",
   "execution_count": 191,
   "metadata": {},
   "outputs": [
    {
     "data": {
      "text/plain": [
       "Dict{Any, Any} with 144 entries:\n",
       "  \"DC\" => \"ee\"\n",
       "  \"αD\" => \"ge\"\n",
       "  \"δα\" => \"gg\"\n",
       "  \"EC\" => \"ee\"\n",
       "  \"DB\" => \"ee\"\n",
       "  \"γA\" => \"ge\"\n",
       "  \"CC\" => \"ee\"\n",
       "  \"BC\" => \"ee\"\n",
       "  \"BB\" => \"ee\"\n",
       "  \"Eϕ\" => \"eg\"\n",
       "  \"Dγ\" => \"eg\"\n",
       "  \"Bβ\" => \"eg\"\n",
       "  \"Dα\" => \"eg\"\n",
       "  \"ϵA\" => \"ge\"\n",
       "  \"αα\" => \"gg\"\n",
       "  \"αϕ\" => \"gg\"\n",
       "  \"ϕA\" => \"ge\"\n",
       "  \"ϕI\" => \"ge\"\n",
       "  \"γγ\" => \"gg\"\n",
       "  ⋮    => ⋮"
      ]
     },
     "metadata": {},
     "output_type": "display_data"
    }
   ],
   "source": [
    "side_info_2"
   ]
  },
  {
   "cell_type": "code",
   "execution_count": 210,
   "metadata": {},
   "outputs": [
    {
     "data": {
      "text/plain": [
       "side_information_table (generic function with 1 method)"
      ]
     },
     "metadata": {},
     "output_type": "display_data"
    }
   ],
   "source": [
    "dict_list(key_list::Vector) = Dict([(key, []) for key in key_list]);\n",
    "\n",
    "#=\n",
    "Input:\n",
    "alphabet_2_list : Vector containing block symbols\n",
    "prob_2_list     : Vector containing corresponding probabilities of block symbols\n",
    "side_info_2     : Dictionary mapping block symbols => side information block symbols\n",
    "=#\n",
    "function side_information_table(alphabet_2_list, prob_2_list, side_info_2)\n",
    "    unique_side_info2 = unique!([value for (key, value) in side_info_2])\n",
    "    inv_side_info2 = dict_list(unique_side_info2)\n",
    "    inv_side_prob2 = dict_list(unique_side_info2)\n",
    "    for (idx, source_block) in enumerate(alphabet_2_list)\n",
    "        side_info = side_info_2[source_block]\n",
    "        println(\"Now collecting: $source_block -> $(prob_2_list[idx]) for $side_info\")\n",
    "        push!(inv_side_info2[side_info], string(source_block))\n",
    "        push!(inv_side_prob2[side_info], prob_2_list[idx])\n",
    "    end\n",
    "\n",
    "    renormalization(probabilities::Vector) = probabilities ./ sum(probabilities); \n",
    "\n",
    "    # Renormalization based on given side information\n",
    "    for (side_info, probabilities) in inv_side_prob2\n",
    "        inv_side_prob2[side_info] = renormalization(probabilities)\n",
    "    end\n",
    "\n",
    "    return inv_side_info2, inv_side_prob2\n",
    "end"
   ]
  },
  {
   "cell_type": "code",
   "execution_count": 211,
   "metadata": {},
   "outputs": [
    {
     "name": "stdout",
     "output_type": "stream",
     "text": [
      "Now collecting: CC -> 1//324 for ee\n",
      "Now collecting: BC -> 1//324 for ee\n",
      "Now collecting: DC -> 1//324 for ee\n",
      "Now collecting: ϵC -> 1//216 for ge\n",
      "Now collecting: δC -> 1//216 for ge\n",
      "Now collecting: ϕC -> 1//216 for ge\n",
      "Now collecting: αC -> 1//216 for ge\n",
      "Now collecting: γC -> 1//216 for ge\n",
      "Now collecting: βC -> 1//216 for ge\n",
      "Now collecting: AC -> 1//162 for ee\n",
      "Now collecting: EC -> 1//162 for ee\n",
      "Now collecting: IC -> 1//162 for ee\n",
      "Now collecting: CB -> 1//324 for ee\n",
      "Now collecting: BB -> 1//324 for ee\n",
      "Now collecting: DB -> 1//324 for ee\n",
      "Now collecting: ϵB -> 1//216 for ge\n",
      "Now collecting: δB -> 1//216 for ge\n",
      "Now collecting: ϕB -> 1//216 for ge\n",
      "Now collecting: αB -> 1//216 for ge\n",
      "Now collecting: γB -> 1//216 for ge\n",
      "Now collecting: βB -> 1//216 for ge\n",
      "Now collecting: AB -> 1//162 for ee\n",
      "Now collecting: EB -> 1//162 for ee\n",
      "Now collecting: IB -> 1//162 for ee\n",
      "Now collecting: CD -> 1//324 for ee\n",
      "Now collecting: BD -> 1//324 for ee\n",
      "Now collecting: DD -> 1//324 for ee\n",
      "Now collecting: ϵD -> 1//216 for ge\n",
      "Now collecting: δD -> 1//216 for ge\n",
      "Now collecting: ϕD -> 1//216 for ge\n",
      "Now collecting: αD -> 1//216 for ge\n",
      "Now collecting: γD -> 1//216 for ge\n",
      "Now collecting: βD -> 1//216 for ge\n",
      "Now collecting: AD -> 1//162 for ee\n",
      "Now collecting: ED -> 1//162 for ee\n",
      "Now collecting: ID -> 1//162 for ee\n",
      "Now collecting: Cϵ -> 1//216 for eg\n",
      "Now collecting: Bϵ -> 1//216 for eg\n",
      "Now collecting: Dϵ -> 1//216 for eg\n",
      "Now collecting: ϵϵ -> 1//144 for gg\n",
      "Now collecting: δϵ -> 1//144 for gg\n",
      "Now collecting: ϕϵ -> 1//144 for gg\n",
      "Now collecting: αϵ -> 1//144 for gg\n",
      "Now collecting: γϵ -> 1//144 for gg\n",
      "Now collecting: βϵ -> 1//144 for gg\n",
      "Now collecting: Aϵ -> 1//108 for eg\n",
      "Now collecting: Eϵ -> 1//108 for eg\n",
      "Now collecting: Iϵ -> 1//108 for eg\n",
      "Now collecting: Cδ -> 1//216 for eg\n",
      "Now collecting: Bδ -> 1//216 for eg\n",
      "Now collecting: Dδ -> 1//216 for eg\n",
      "Now collecting: ϵδ -> 1//144 for gg\n",
      "Now collecting: δδ -> 1//144 for gg\n",
      "Now collecting: ϕδ -> 1//144 for gg\n",
      "Now collecting: αδ -> 1//144 for gg\n",
      "Now collecting: γδ -> 1//144 for gg\n",
      "Now collecting: βδ -> 1//144 for gg\n",
      "Now collecting: Aδ -> 1//108 for eg\n",
      "Now collecting: Eδ -> 1//108 for eg\n",
      "Now collecting: Iδ -> 1//108 for eg\n",
      "Now collecting: Cϕ -> 1//216 for eg\n",
      "Now collecting: Bϕ -> 1//216 for eg\n",
      "Now collecting: Dϕ -> 1//216 for eg\n",
      "Now collecting: ϵϕ -> 1//144 for gg\n",
      "Now collecting: δϕ -> 1//144 for gg\n",
      "Now collecting: ϕϕ -> 1//144 for gg\n",
      "Now collecting: αϕ -> 1//144 for gg\n",
      "Now collecting: γϕ -> 1//144 for gg\n",
      "Now collecting: βϕ -> 1//144 for gg\n",
      "Now collecting: Aϕ -> 1//108 for eg\n",
      "Now collecting: Eϕ -> 1//108 for eg\n",
      "Now collecting: Iϕ -> 1//108 for eg\n",
      "Now collecting: Cα -> 1//216 for eg\n",
      "Now collecting: Bα -> 1//216 for eg\n",
      "Now collecting: Dα -> 1//216 for eg\n",
      "Now collecting: ϵα -> 1//144 for gg\n",
      "Now collecting: δα -> 1//144 for gg\n",
      "Now collecting: ϕα -> 1//144 for gg\n",
      "Now collecting: αα -> 1//144 for gg\n",
      "Now collecting: γα -> 1//144 for gg\n",
      "Now collecting: βα -> 1//144 for gg\n",
      "Now collecting: Aα -> 1//108 for eg\n",
      "Now collecting: Eα -> 1//108 for eg\n",
      "Now collecting: Iα -> 1//108 for eg\n",
      "Now collecting: Cγ -> 1//216 for eg\n",
      "Now collecting: Bγ -> 1//216 for eg\n",
      "Now collecting: Dγ -> 1//216 for eg\n",
      "Now collecting: ϵγ -> 1//144 for gg\n",
      "Now collecting: δγ -> 1//144 for gg\n",
      "Now collecting: ϕγ -> 1//144 for gg\n",
      "Now collecting: αγ -> 1//144 for gg\n",
      "Now collecting: γγ -> 1//144 for gg\n",
      "Now collecting: βγ -> 1//144 for gg\n",
      "Now collecting: Aγ -> 1//108 for eg\n",
      "Now collecting: Eγ -> 1//108 for eg\n",
      "Now collecting: Iγ -> 1//108 for eg\n",
      "Now collecting: Cβ -> 1//216 for eg\n",
      "Now collecting: Bβ -> 1//216 for eg\n",
      "Now collecting: Dβ -> 1//216 for eg\n",
      "Now collecting: ϵβ -> 1//144 for gg\n",
      "Now collecting: δβ -> 1//144 for gg\n",
      "Now collecting: ϕβ -> 1//144 for gg\n",
      "Now collecting: αβ -> 1//144 for gg\n",
      "Now collecting: γβ -> 1//144 for gg\n",
      "Now collecting: ββ -> 1//144 for gg\n",
      "Now collecting: Aβ -> 1//108 for eg\n",
      "Now collecting: Eβ -> 1//108 for eg\n",
      "Now collecting: Iβ -> 1//108 for eg\n",
      "Now collecting: CA -> 1//162 for ee\n",
      "Now collecting: BA -> 1//162 for ee\n",
      "Now collecting: DA -> 1//162 for ee\n",
      "Now collecting: ϵA -> 1//108 for ge\n",
      "Now collecting: δA -> 1//108 for ge\n",
      "Now collecting: ϕA -> 1//108 for ge\n",
      "Now collecting: αA -> 1//108 for ge\n",
      "Now collecting: γA -> 1//108 for ge\n",
      "Now collecting: βA -> 1//108 for ge\n",
      "Now collecting: AA -> 1//81 for ee\n",
      "Now collecting: EA -> 1//81 for ee\n",
      "Now collecting: IA -> 1//81 for ee\n",
      "Now collecting: CE -> 1//162 for ee\n",
      "Now collecting: BE -> 1//162 for ee\n",
      "Now collecting: DE -> 1//162 for ee\n",
      "Now collecting: ϵE -> 1//108 for ge\n",
      "Now collecting: δE -> 1//108 for ge\n",
      "Now collecting: ϕE -> 1//108 for ge\n",
      "Now collecting: αE -> 1//108 for ge\n",
      "Now collecting: γE -> 1//108 for ge\n",
      "Now collecting: βE -> 1//108 for ge\n",
      "Now collecting: AE -> 1//81 for ee\n",
      "Now collecting: EE -> 1//81 for ee\n",
      "Now collecting: IE -> 1//81 for ee\n",
      "Now collecting: CI -> 1//162 for ee\n",
      "Now collecting: BI -> 1//162 for ee\n",
      "Now collecting: DI -> 1//162 for ee\n",
      "Now collecting: ϵI -> 1//108 for ge\n",
      "Now collecting: δI -> 1//108 for ge\n",
      "Now collecting: ϕI -> 1//108 for ge\n",
      "Now collecting: αI -> 1//108 for ge\n",
      "Now collecting: γI -> 1//108 for ge\n",
      "Now collecting: βI -> 1//108 for ge\n",
      "Now collecting: AI -> 1//81 for ee\n",
      "Now collecting: EI -> 1//81 for ee\n",
      "Now collecting: II -> 1//81 for ee\n"
     ]
    },
    {
     "data": {
      "text/plain": [
       "(Dict{String, Vector{Any}}(\"ee\" => [\"CC\", \"BC\", \"DC\", \"AC\", \"EC\", \"IC\", \"CB\", \"BB\", \"DB\", \"AB\"  …  \"DE\", \"AE\", \"EE\", \"IE\", \"CI\", \"BI\", \"DI\", \"AI\", \"EI\", \"II\"], \"eg\" => [\"Cϵ\", \"Bϵ\", \"Dϵ\", \"Aϵ\", \"Eϵ\", \"Iϵ\", \"Cδ\", \"Bδ\", \"Dδ\", \"Aδ\"  …  \"Dγ\", \"Aγ\", \"Eγ\", \"Iγ\", \"Cβ\", \"Bβ\", \"Dβ\", \"Aβ\", \"Eβ\", \"Iβ\"], \"gg\" => [\"ϵϵ\", \"δϵ\", \"ϕϵ\", \"αϵ\", \"γϵ\", \"βϵ\", \"ϵδ\", \"δδ\", \"ϕδ\", \"αδ\"  …  \"ϕγ\", \"αγ\", \"γγ\", \"βγ\", \"ϵβ\", \"δβ\", \"ϕβ\", \"αβ\", \"γβ\", \"ββ\"], \"ge\" => [\"ϵC\", \"δC\", \"ϕC\", \"αC\", \"γC\", \"βC\", \"ϵB\", \"δB\", \"ϕB\", \"αB\"  …  \"ϕE\", \"αE\", \"γE\", \"βE\", \"ϵI\", \"δI\", \"ϕI\", \"αI\", \"γI\", \"βI\"]), Dict{String, Vector{Any}}(\"ee\" => [1//81, 1//81, 1//81, 2//81, 2//81, 2//81, 1//81, 1//81, 1//81, 2//81  …  2//81, 4//81, 4//81, 4//81, 2//81, 2//81, 2//81, 4//81, 4//81, 4//81], \"eg\" => [1//54, 1//54, 1//54, 1//27, 1//27, 1//27, 1//54, 1//54, 1//54, 1//27  …  1//54, 1//27, 1//27, 1//27, 1//54, 1//54, 1//54, 1//27, 1//27, 1//27], \"gg\" => [1//36, 1//36, 1//36, 1//36, 1//36, 1//36, 1//36, 1//36, 1//36, 1//36  …  1//36, 1//36, 1//36, 1//36, 1//36, 1//36, 1//36, 1//36, 1//36, 1//36], \"ge\" => [1//54, 1//54, 1//54, 1//54, 1//54, 1//54, 1//54, 1//54, 1//54, 1//54  …  1//27, 1//27, 1//27, 1//27, 1//27, 1//27, 1//27, 1//27, 1//27, 1//27]))"
      ]
     },
     "metadata": {},
     "output_type": "display_data"
    }
   ],
   "source": [
    "inv_side_info2, inv_side_prob2 = side_information_table(alphabet_2_list, prob_2_list, side_info_2)"
   ]
  },
  {
   "cell_type": "code",
   "execution_count": 216,
   "metadata": {},
   "outputs": [
    {
     "data": {
      "text/plain": [
       "36-element Vector{Any}:\n",
       " 1//36\n",
       " 1//36\n",
       " 1//36\n",
       " 1//36\n",
       " 1//36\n",
       " 1//36\n",
       " 1//36\n",
       " 1//36\n",
       " 1//36\n",
       " 1//36\n",
       "  ⋮\n",
       " 1//36\n",
       " 1//36\n",
       " 1//36\n",
       " 1//36\n",
       " 1//36\n",
       " 1//36\n",
       " 1//36\n",
       " 1//36\n",
       " 1//36"
      ]
     },
     "metadata": {},
     "output_type": "display_data"
    }
   ],
   "source": [
    "inv_side_prob2[\"gg\"]"
   ]
  },
  {
   "cell_type": "code",
   "execution_count": 135,
   "metadata": {},
   "outputs": [
    {
     "data": {
      "text/plain": [
       "4-element Vector{String}:\n",
       " \"ee\"\n",
       " \"ge\"\n",
       " \"gg\"\n",
       " \"eg\""
      ]
     },
     "metadata": {},
     "output_type": "display_data"
    }
   ],
   "source": [
    "unique_side_info2 = unique!([value for (key, value) in side_info_2])"
   ]
  },
  {
   "cell_type": "code",
   "execution_count": 155,
   "metadata": {},
   "outputs": [],
   "source": [
    "dict_list(key_list::Vector) = Dict([(key, []) for key in key_list]); # Creates Dictionary of Lists with defined keys"
   ]
  },
  {
   "cell_type": "code",
   "execution_count": 156,
   "metadata": {},
   "outputs": [
    {
     "name": "stdout",
     "output_type": "stream",
     "text": [
      "Now collecting: CC -> 1//324 for ee\n",
      "Now collecting: BC -> 1//324 for ee\n",
      "Now collecting: DC -> 1//324 for ee\n",
      "Now collecting: ϵC -> 1//216 for ge\n",
      "Now collecting: δC -> 1//216 for ge\n",
      "Now collecting: ϕC -> 1//216 for ge\n",
      "Now collecting: αC -> 1//216 for ge\n",
      "Now collecting: γC -> 1//216 for ge\n",
      "Now collecting: βC -> 1//216 for ge\n",
      "Now collecting: AC -> 1//162 for ee\n",
      "Now collecting: EC -> 1//162 for ee\n",
      "Now collecting: IC -> 1//162 for ee\n",
      "Now collecting: CB -> 1//324 for ee\n",
      "Now collecting: BB -> 1//324 for ee\n",
      "Now collecting: DB -> 1//324 for ee\n",
      "Now collecting: ϵB -> 1//216 for ge\n",
      "Now collecting: δB -> 1//216 for ge\n",
      "Now collecting: ϕB -> 1//216 for ge\n",
      "Now collecting: αB -> 1//216 for ge\n",
      "Now collecting: γB -> 1//216 for ge\n",
      "Now collecting: βB -> 1//216 for ge\n",
      "Now collecting: AB -> 1//162 for ee\n",
      "Now collecting: EB -> 1//162 for ee\n",
      "Now collecting: IB -> 1//162 for ee\n",
      "Now collecting: CD -> 1//324 for ee\n",
      "Now collecting: BD -> 1//324 for ee\n",
      "Now collecting: DD -> 1//324 for ee\n",
      "Now collecting: ϵD -> 1//216 for ge\n",
      "Now collecting: δD -> 1//216 for ge\n",
      "Now collecting: ϕD -> 1//216 for ge\n",
      "Now collecting: αD -> 1//216 for ge\n",
      "Now collecting: γD -> 1//216 for ge\n",
      "Now collecting: βD -> 1//216 for ge\n",
      "Now collecting: AD -> 1//162 for ee\n",
      "Now collecting: ED -> 1//162 for ee\n",
      "Now collecting: ID -> 1//162 for ee\n",
      "Now collecting: Cϵ -> 1//216 for eg\n",
      "Now collecting: Bϵ -> 1//216 for eg\n",
      "Now collecting: Dϵ -> 1//216 for eg\n",
      "Now collecting: ϵϵ -> 1//144 for gg\n",
      "Now collecting: δϵ -> 1//144 for gg\n",
      "Now collecting: ϕϵ -> 1//144 for gg\n",
      "Now collecting: αϵ -> 1//144 for gg\n",
      "Now collecting: γϵ -> 1//144 for gg\n",
      "Now collecting: βϵ -> 1//144 for gg\n",
      "Now collecting: Aϵ -> 1//108 for eg\n",
      "Now collecting: Eϵ -> 1//108 for eg\n",
      "Now collecting: Iϵ -> 1//108 for eg\n",
      "Now collecting: Cδ -> 1//216 for eg\n",
      "Now collecting: Bδ -> 1//216 for eg\n",
      "Now collecting: Dδ -> 1//216 for eg\n",
      "Now collecting: ϵδ -> 1//144 for gg\n",
      "Now collecting: δδ -> 1//144 for gg\n",
      "Now collecting: ϕδ -> 1//144 for gg\n",
      "Now collecting: αδ -> 1//144 for gg\n",
      "Now collecting: γδ -> 1//144 for gg\n",
      "Now collecting: βδ -> 1//144 for gg\n",
      "Now collecting: Aδ -> 1//108 for eg\n",
      "Now collecting: Eδ -> 1//108 for eg\n",
      "Now collecting: Iδ -> 1//108 for eg\n",
      "Now collecting: Cϕ -> 1//216 for eg\n",
      "Now collecting: Bϕ -> 1//216 for eg\n",
      "Now collecting: Dϕ -> 1//216 for eg\n",
      "Now collecting: ϵϕ -> 1//144 for gg\n",
      "Now collecting: δϕ -> 1//144 for gg\n",
      "Now collecting: ϕϕ -> 1//144 for gg\n",
      "Now collecting: αϕ -> 1//144 for gg\n",
      "Now collecting: γϕ -> 1//144 for gg\n",
      "Now collecting: βϕ -> 1//144 for gg\n",
      "Now collecting: Aϕ -> 1//108 for eg\n",
      "Now collecting: Eϕ -> 1//108 for eg\n",
      "Now collecting: Iϕ -> 1//108 for eg\n",
      "Now collecting: Cα -> 1//216 for eg\n",
      "Now collecting: Bα -> 1//216 for eg\n",
      "Now collecting: Dα -> 1//216 for eg\n",
      "Now collecting: ϵα -> 1//144 for gg\n",
      "Now collecting: δα -> 1//144 for gg\n",
      "Now collecting: ϕα -> 1//144 for gg\n",
      "Now collecting: αα -> 1//144 for gg\n",
      "Now collecting: γα -> 1//144 for gg\n",
      "Now collecting: βα -> 1//144 for gg\n",
      "Now collecting: Aα -> 1//108 for eg\n",
      "Now collecting: Eα -> 1//108 for eg\n",
      "Now collecting: Iα -> 1//108 for eg\n",
      "Now collecting: Cγ -> 1//216 for eg\n",
      "Now collecting: Bγ -> 1//216 for eg\n",
      "Now collecting: Dγ -> 1//216 for eg\n",
      "Now collecting: ϵγ -> 1//144 for gg\n",
      "Now collecting: δγ -> 1//144 for gg\n",
      "Now collecting: ϕγ -> 1//144 for gg\n",
      "Now collecting: αγ -> 1//144 for gg\n",
      "Now collecting: γγ -> 1//144 for gg\n",
      "Now collecting: βγ -> 1//144 for gg\n",
      "Now collecting: Aγ -> 1//108 for eg\n",
      "Now collecting: Eγ -> 1//108 for eg\n",
      "Now collecting: Iγ -> 1//108 for eg\n",
      "Now collecting: Cβ -> 1//216 for eg\n",
      "Now collecting: Bβ -> 1//216 for eg\n",
      "Now collecting: Dβ -> 1//216 for eg\n",
      "Now collecting: ϵβ -> 1//144 for gg\n",
      "Now collecting: δβ -> 1//144 for gg\n",
      "Now collecting: ϕβ -> 1//144 for gg\n",
      "Now collecting: αβ -> 1//144 for gg\n",
      "Now collecting: γβ -> 1//144 for gg\n",
      "Now collecting: ββ -> 1//144 for gg\n",
      "Now collecting: Aβ -> 1//108 for eg\n",
      "Now collecting: Eβ -> 1//108 for eg\n",
      "Now collecting: Iβ -> 1//108 for eg\n",
      "Now collecting: CA -> 1//162 for ee\n",
      "Now collecting: BA -> 1//162 for ee\n",
      "Now collecting: DA -> 1//162 for ee\n",
      "Now collecting: ϵA -> 1//108 for ge\n",
      "Now collecting: δA -> 1//108 for ge\n",
      "Now collecting: ϕA -> 1//108 for ge\n",
      "Now collecting: αA -> 1//108 for ge\n",
      "Now collecting: γA -> 1//108 for ge\n",
      "Now collecting: βA -> 1//108 for ge\n",
      "Now collecting: AA -> 1//81 for ee\n",
      "Now collecting: EA -> 1//81 for ee\n",
      "Now collecting: IA -> 1//81 for ee\n",
      "Now collecting: CE -> 1//162 for ee\n",
      "Now collecting: BE -> 1//162 for ee\n",
      "Now collecting: DE -> 1//162 for ee\n",
      "Now collecting: ϵE -> 1//108 for ge\n",
      "Now collecting: δE -> 1//108 for ge\n",
      "Now collecting: ϕE -> 1//108 for ge\n",
      "Now collecting: αE -> 1//108 for ge\n",
      "Now collecting: γE -> 1//108 for ge\n",
      "Now collecting: βE -> 1//108 for ge\n",
      "Now collecting: AE -> 1//81 for ee\n",
      "Now collecting: EE -> 1//81 for ee\n",
      "Now collecting: IE -> 1//81 for ee\n",
      "Now collecting: CI -> 1//162 for ee\n",
      "Now collecting: BI -> 1//162 for ee\n",
      "Now collecting: DI -> 1//162 for ee\n",
      "Now collecting: ϵI -> 1//108 for ge\n",
      "Now collecting: δI -> 1//108 for ge\n",
      "Now collecting: ϕI -> 1//108 for ge\n",
      "Now collecting: αI -> 1//108 for ge\n",
      "Now collecting: γI -> 1//108 for ge\n",
      "Now collecting: βI -> 1//108 for ge\n",
      "Now collecting: AI -> 1//81 for ee\n",
      "Now collecting: EI -> 1//81 for ee\n",
      "Now collecting: II -> 1//81 for ee\n"
     ]
    }
   ],
   "source": [
    "inv_side_info2 = dict_list(unique_side_info2) # Dict([(unique_side_info, []) for unique_side_info in unique_side_info2]);\n",
    "inv_side_prob2 = dict_list(unique_side_info2) # Dict([(unique_side_info, []) for unique_side_info in unique_side_info2]);\n",
    "for (idx, source_block) in enumerate(alphabet_2_list)\n",
    "    side_info = side_info_2[source_block]\n",
    "    println(\"Now collecting: $source_block -> $(prob_2_list[idx]) for $side_info\")\n",
    "    push!(inv_side_info2[side_info], string(source_block))\n",
    "    push!(inv_side_prob2[side_info], prob_2_list[idx])\n",
    "end\n",
    "\n",
    "renormalization(probabilities::Vector) = probabilities ./ sum(probabilities); \n",
    "\n",
    "# Renormalization based on given side information\n",
    "for (side_info, probabilities) in inv_side_prob2\n",
    "    inv_side_prob2[side_info] = renormalization(probabilities)\n",
    "end"
   ]
  },
  {
   "cell_type": "code",
   "execution_count": 171,
   "metadata": {},
   "outputs": [
    {
     "name": "stdout",
     "output_type": "stream",
     "text": [
      "Any[\"CD\", \"DC\", \"DB\", \"CC\", \"BC\", \"BB\", \"CB\", \"BD\", \"DD\", \"ED\", \"BI\", \"DI\", \"EC\", \"DE\", \"IC\", \"IB\", \"CI\", \"DA\", \"EB\", \"ID\", \"CA\", \"AD\", \"AC\", \"CE\", \"BE\", \"BA\", \"AB\", \"EE\", \"II\", \"AE\", \"EA\", \"EI\", \"AI\", \"IE\", \"AA\", \"IA\"]\n",
      "Any[1//81, 1//81, 1//81, 1//81, 1//81, 1//81, 1//81, 1//81, 1//81, 2//81, 2//81, 2//81, 2//81, 2//81, 2//81, 2//81, 2//81, 2//81, 2//81, 2//81, 2//81, 2//81, 2//81, 2//81, 2//81, 2//81, 2//81, 4//81, 4//81, 4//81, 4//81, 4//81, 4//81, 4//81, 4//81, 4//81]\n",
      "Any[\"Dϕ\", \"Dγ\", \"Cϵ\", \"Dα\", \"Bβ\", \"Cδ\", \"Cα\", \"Bγ\", \"Dβ\", \"Dδ\", \"Cϕ\", \"Bδ\", \"Cγ\", \"Cβ\", \"Bα\", \"Bϵ\", \"Bϕ\", \"Dϵ\", \"Eδ\", \"Aα\", \"Eγ\", \"Eϕ\", \"Eα\", \"Aϕ\", \"Iϕ\", \"Aϵ\", \"Aβ\", \"Iϵ\", \"Aγ\", \"Eϵ\", \"Iβ\", \"Eβ\", \"Iγ\", \"Aδ\", \"Iδ\", \"Iα\"]\n",
      "Any[1//54, 1//54, 1//54, 1//54, 1//54, 1//54, 1//54, 1//54, 1//54, 1//54, 1//54, 1//54, 1//54, 1//54, 1//54, 1//54, 1//54, 1//54, 1//27, 1//27, 1//27, 1//27, 1//27, 1//27, 1//27, 1//27, 1//27, 1//27, 1//27, 1//27, 1//27, 1//27, 1//27, 1//27, 1//27, 1//27]\n",
      "Any[\"ϕα\", \"βα\", \"δα\", \"ϕβ\", \"αβ\", \"γϵ\", \"ϕδ\", \"αγ\", \"ϵϕ\", \"γδ\", \"ϕϕ\", \"βϵ\", \"γϕ\", \"αϕ\", \"αα\", \"δγ\", \"ϕγ\", \"γγ\", \"ϵδ\", \"δϕ\", \"βδ\", \"ββ\", \"ϵγ\", \"βγ\", \"ϵα\", \"ϕϵ\", \"ϵϵ\", \"βϕ\", \"γβ\", \"δδ\", \"δβ\", \"δϵ\", \"γα\", \"αϵ\", \"αδ\", \"ϵβ\"]\n",
      "Any[1//36, 1//36, 1//36, 1//36, 1//36, 1//36, 1//36, 1//36, 1//36, 1//36, 1//36, 1//36, 1//36, 1//36, 1//36, 1//36, 1//36, 1//36, 1//36, 1//36, 1//36, 1//36, 1//36, 1//36, 1//36, 1//36, 1//36, 1//36, 1//36, 1//36, 1//36, 1//36, 1//36, 1//36, 1//36, 1//36]\n",
      "Any[\"αD\", \"δB\", \"ϕC\", \"βB\", \"αB\", \"δC\", \"δD\", \"γB\", \"αC\", \"ϕB\", \"βC\", \"ϵD\", \"ϕD\", \"γD\", \"ϵC\", \"γC\", \"βD\", \"ϵB\", \"βE\", \"γA\", \"βI\", \"αA\", \"ϕA\", \"ϵA\", \"ϕI\", \"αI\", \"δI\", \"γE\", \"ϵI\", \"βA\", \"δE\", \"αE\", \"ϕE\", \"ϵE\", \"γI\", \"δA\"]\n",
      "Any[1//54, 1//54, 1//54, 1//54, 1//54, 1//54, 1//54, 1//54, 1//54, 1//54, 1//54, 1//54, 1//54, 1//54, 1//54, 1//54, 1//54, 1//54, 1//27, 1//27, 1//27, 1//27, 1//27, 1//27, 1//27, 1//27, 1//27, 1//27, 1//27, 1//27, 1//27, 1//27, 1//27, 1//27, 1//27, 1//27]\n"
     ]
    }
   ],
   "source": [
    "unique_trees = Dict();  #dict_list(unique_side_info2);\n",
    "unique_encoders = Dict(); #dict_list(unique_side_info2);\n",
    "# unique_decoders = Dict(); #dict_list(unique_side_info2);\n",
    "for (side_info, conditional_probabilities) in inv_side_prob2\n",
    "    conditioned_alphabets = inv_side_info2[side_info];\n",
    "    P_dict = Dict([(conditioned_alphabets[idx], cond_prob) for (idx, cond_prob) in enumerate(conditional_probabilities)])\n",
    "    ___, ____, P_dict = sort_prob(P_dict);\n",
    "    tree = construct_huffman_tree(P_dict);\n",
    "    encoder = Dict();\n",
    "    print_encoding(tree, \"\", encoder);\n",
    "    delete!(encoder, \"s\");\n",
    "\n",
    "    unique_trees[side_info] = tree;\n",
    "    unique_encoders[side_info] = encoder;\n",
    "end\n",
    "    "
   ]
  },
  {
   "cell_type": "code",
   "execution_count": 176,
   "metadata": {},
   "outputs": [
    {
     "data": {
      "text/plain": [
       "Dict{Any, Any} with 36 entries:\n",
       "  \"ϕα\" => \"111000\"\n",
       "  \"βα\" => \"111001\"\n",
       "  \"δα\" => \"111010\"\n",
       "  \"ϕβ\" => \"111011\"\n",
       "  \"αβ\" => \"111100\"\n",
       "  \"γϵ\" => \"111101\"\n",
       "  \"ϕδ\" => \"111110\"\n",
       "  \"αγ\" => \"111111\"\n",
       "  \"ϵϕ\" => \"00000\"\n",
       "  \"γδ\" => \"00001\"\n",
       "  \"ϕϕ\" => \"00010\"\n",
       "  \"βϵ\" => \"00011\"\n",
       "  \"γϕ\" => \"00100\"\n",
       "  \"αϕ\" => \"00101\"\n",
       "  \"αα\" => \"00110\"\n",
       "  \"δγ\" => \"00111\"\n",
       "  \"ϕγ\" => \"01000\"\n",
       "  \"γγ\" => \"01001\"\n",
       "  \"ϵδ\" => \"01010\"\n",
       "  ⋮    => ⋮"
      ]
     },
     "metadata": {},
     "output_type": "display_data"
    }
   ],
   "source": [
    "unique_encoders[\"gg\"]"
   ]
  },
  {
   "cell_type": "code",
   "execution_count": 173,
   "metadata": {},
   "outputs": [
    {
     "name": "stdout",
     "output_type": "stream",
     "text": [
      "Going left\n",
      "Going left\n",
      "Going left\n",
      "Going Right\n",
      "Going left\n",
      "Successfuly Decoded: DI\n"
     ]
    },
    {
     "data": {
      "text/plain": [
       "\"DI\\0\""
      ]
     },
     "metadata": {},
     "output_type": "display_data"
    }
   ],
   "source": [
    "decode_huffman(unique_trees[\"ee\"], \"00010\")"
   ]
  },
  {
   "cell_type": "code",
   "execution_count": 178,
   "metadata": {},
   "outputs": [
    {
     "name": "stdout",
     "output_type": "stream",
     "text": [
      "Hello World!\n"
     ]
    }
   ],
   "source": [
    "include(\"./test.jl\")\n",
    "tester(\"Hello World!\")"
   ]
  },
  {
   "cell_type": "code",
   "execution_count": null,
   "metadata": {},
   "outputs": [],
   "source": []
  }
 ],
 "metadata": {
  "kernelspec": {
   "display_name": "Julia 1.8.5",
   "language": "julia",
   "name": "julia-1.8"
  },
  "language_info": {
   "file_extension": ".jl",
   "mimetype": "application/julia",
   "name": "julia",
   "version": "1.8.5"
  },
  "orig_nbformat": 4
 },
 "nbformat": 4,
 "nbformat_minor": 2
}
