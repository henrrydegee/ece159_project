{
 "cells": [
  {
   "cell_type": "code",
   "execution_count": 1,
   "metadata": {},
   "outputs": [
    {
     "data": {
      "text/plain": [
       "12-element Vector{String}:\n",
       " \"A\"\n",
       " \"B\"\n",
       " \"C\"\n",
       " \"D\"\n",
       " \"E\"\n",
       " \"I\"\n",
       " \"α\"\n",
       " \"β\"\n",
       " \"γ\"\n",
       " \"δ\"\n",
       " \"ϵ\"\n",
       " \"ϕ\""
      ]
     },
     "metadata": {},
     "output_type": "display_data"
    }
   ],
   "source": [
    "english::Vector{String} = [\"A\", \"B\", \"C\", \"D\", \"E\", \"I\"];\n",
    "greek::Vector{String} = [\"α\", \"β\", \"γ\", \"δ\", \"ϵ\", \"ϕ\"];\n",
    "alphabets::Vector{String} = [];\n",
    "\n",
    "append!(alphabets, english)\n",
    "append!(alphabets, greek)"
   ]
  },
  {
   "cell_type": "code",
   "execution_count": 2,
   "metadata": {},
   "outputs": [
    {
     "data": {
      "text/plain": [
       "Dict{Any, Any} with 12 entries:\n",
       "  \"C\" => 1//18\n",
       "  \"ϵ\" => 1//12\n",
       "  \"δ\" => 1//12\n",
       "  \"B\" => 1//18\n",
       "  \"A\" => 1//9\n",
       "  \"ϕ\" => 1//12\n",
       "  \"D\" => 1//18\n",
       "  \"α\" => 1//12\n",
       "  \"E\" => 1//9\n",
       "  \"γ\" => 1//12\n",
       "  \"I\" => 1//9\n",
       "  \"β\" => 1//12"
      ]
     },
     "metadata": {},
     "output_type": "display_data"
    }
   ],
   "source": [
    "P = Dict();\n",
    "for alphabet in alphabets\n",
    "    if string(alphabet) ∈ greek\n",
    "        P[alphabet] = 1 // 12;\n",
    "    elseif string(alphabet) ∈ [\"A\", \"E\", \"I\"]\n",
    "        P[alphabet] = 1 // 9;\n",
    "    else\n",
    "        P[alphabet] = 1 // 18;\n",
    "    end\n",
    "end\n",
    "\n",
    "P"
   ]
  },
  {
   "cell_type": "code",
   "execution_count": 3,
   "metadata": {},
   "outputs": [],
   "source": [
    "P_2 = Dict();\n",
    "for (alphabet, probability) in P\n",
    "    for (alphabet_2, probability_2) in P\n",
    "        P_2[alphabet * alphabet_2] = probability * probability_2;\n",
    "    end\n",
    "end\n",
    "\n",
    "P_3 = Dict();\n",
    "for (alphabet, probability) in P\n",
    "    for (alphabet_2, probability_2) in P_2\n",
    "        P_3[alphabet * alphabet_2] = probability * probability_2;\n",
    "    end\n",
    "end"
   ]
  },
  {
   "cell_type": "code",
   "execution_count": 4,
   "metadata": {},
   "outputs": [
    {
     "name": "stdout",
     "output_type": "stream",
     "text": [
      "Any['C', 'B', 'D', 'ϵ', 'δ', 'ϕ', 'α', 'γ', 'β', 'A', 'E', 'I']\n",
      "Any[1//18, 1//18, 1//18, 1//12, 1//12, 1//12, 1//12, 1//12, 1//12, 1//9, 1//9, 1//9]\n"
     ]
    },
    {
     "data": {
      "text/plain": [
       "(Any[1//18, 1//18, 1//18, 1//12, 1//12, 1//12, 1//12, 1//12, 1//12, 1//9, 1//9, 1//9], Any['C', 'B', 'D', 'ϵ', 'δ', 'ϕ', 'α', 'γ', 'β', 'A', 'E', 'I'], Dict{Any, Any}(\"C\" => 1//18, \"ϵ\" => 1//12, \"δ\" => 1//12, \"B\" => 1//18, \"A\" => 1//9, \"ϕ\" => 1//12, \"D\" => 1//18, \"α\" => 1//12, \"E\" => 1//9, \"γ\" => 1//12…))"
      ]
     },
     "metadata": {},
     "output_type": "display_data"
    }
   ],
   "source": [
    "function sort_prob(P_Dict)\n",
    "    probabilities = [];\n",
    "    alphabets = [];\n",
    "    for (alphabet, probability) in P_Dict\n",
    "        # println(\"$(typeof(alphabet))\")\n",
    "        append!(probabilities, probability)\n",
    "        append!(alphabets, alphabet)\n",
    "    end\n",
    "\n",
    "    sorted_idx = sortperm(probabilities);\n",
    "    probabilities = probabilities[sorted_idx];\n",
    "    alphabets = alphabets[sorted_idx];\n",
    "\n",
    "    println(\"$alphabets\")\n",
    "    println(\"$probabilities\")\n",
    "\n",
    "    P_sorted_dict = Dict();\n",
    "    for (idx, probability) in enumerate(probabilities)\n",
    "        P_sorted_dict[ string(alphabets[idx]) ] = probability\n",
    "    end\n",
    "    return probabilities, alphabets, P_sorted_dict\n",
    "end\n",
    "\n",
    "probabilities, alphabets2, P_sorted_dict = sort_prob(P)"
   ]
  },
  {
   "cell_type": "code",
   "execution_count": 5,
   "metadata": {},
   "outputs": [
    {
     "data": {
      "text/plain": [
       "huffman_node{String, Rational{Int64}}(\"s\", 1//1, huffman_node{String, Rational{Int64}}(\"s\", 5//12, huffman_node{String, Rational{Int64}}(\"s\", 7//36, huffman_node{String, Rational{Int64}}(\"β\", 1//12, nothing, nothing), huffman_node{String, Rational{Int64}}(\"A\", 1//9, nothing, nothing)), huffman_node{String, Rational{Int64}}(\"s\", 2//9, huffman_node{String, Rational{Int64}}(\"E\", 1//9, nothing, nothing), huffman_node{String, Rational{Int64}}(\"I\", 1//9, nothing, nothing))), huffman_node{String, Rational{Int64}}(\"s\", 7//12, huffman_node{String, Rational{Int64}}(\"s\", 1//4, huffman_node{String, Rational{Int64}}(\"s\", 1//9, huffman_node{String, Rational{Int64}}(\"C\", 1//18, nothing, nothing), huffman_node{String, Rational{Int64}}(\"B\", 1//18, nothing, nothing)), huffman_node{String, Rational{Int64}}(\"s\", 5//36, huffman_node{String, Rational{Int64}}(\"D\", 1//18, nothing, nothing), huffman_node{String, Rational{Int64}}(\"ϵ\", 1//12, nothing, nothing))), huffman_node{String, Rational{Int64}}(\"s\", 1//3, huffman_node{String, Rational{Int64}}(\"s\", 1//6, huffman_node{String, Rational{Int64}}(\"δ\", 1//12, nothing, nothing), huffman_node{String, Rational{Int64}}(\"ϕ\", 1//12, nothing, nothing)), huffman_node{String, Rational{Int64}}(\"s\", 1//6, huffman_node{String, Rational{Int64}}(\"α\", 1//12, nothing, nothing), huffman_node{String, Rational{Int64}}(\"γ\", 1//12, nothing, nothing)))))"
      ]
     },
     "metadata": {},
     "output_type": "display_data"
    }
   ],
   "source": [
    "mutable struct huffman_node{A, B}\n",
    "    code::A\n",
    "    probability::B\n",
    "    left::Union{Nothing, huffman_node}\n",
    "    right::Union{Nothing, huffman_node}\n",
    "end\n",
    "# For Huffman Leaf Construction:\n",
    "huffman_node(x::A, y::B) where A where B = huffman_node{A, B}(x, y, nothing, nothing)\n",
    "\n",
    "function construct_huffman_tree(P_sorted_dict)\n",
    "    trees = [huffman_node( alphabet, probability) for (alphabet, probability) in P_sorted_dict]\n",
    "    while length(trees) > 1\n",
    "        sort!(trees, lt = (x, y) -> x.probability < y.probability)\n",
    "        smallest = popfirst!(trees)\n",
    "        next_smallest = popfirst!(trees)\n",
    "        tree = huffman_node(\"s\", smallest.probability + next_smallest.probability)\n",
    "        tree.left = smallest\n",
    "        tree.right = next_smallest\n",
    "        push!(trees, tree )\n",
    "    end\n",
    "    return trees[1]\n",
    "end\n",
    "\n",
    "huffman_tree = construct_huffman_tree(P_sorted_dict)"
   ]
  },
  {
   "cell_type": "code",
   "execution_count": 7,
   "metadata": {},
   "outputs": [
    {
     "name": "stdout",
     "output_type": "stream",
     "text": [
      "  0.031132 seconds (74.31 k allocations: 3.648 MiB, 99.60% compilation time)\n"
     ]
    },
    {
     "data": {
      "text/plain": [
       "\"\""
      ]
     },
     "metadata": {},
     "output_type": "display_data"
    }
   ],
   "source": [
    "function print_encoding(node, code, encoder)\n",
    "    code *= \"0\"\n",
    "    if ~(isnothing(node.left))\n",
    "        print_encoding(node.left, code, encoder)\n",
    "    end\n",
    "    code = code[1:end-1]\n",
    "\n",
    "    code *= \"1\"\n",
    "    if ~(isnothing(node.right))\n",
    "        print_encoding(node.right, code, encoder)\n",
    "    end\n",
    "    code = code[1:end-1]\n",
    "    encoder[node.code] = code\n",
    "\n",
    "end\n",
    "\n",
    "encoder = Dict()\n",
    "@time print_encoding(huffman_tree, \"\", encoder)"
   ]
  },
  {
   "cell_type": "code",
   "execution_count": 9,
   "metadata": {},
   "outputs": [
    {
     "data": {
      "text/plain": [
       "Dict{Any, Any} with 13 entries:\n",
       "  \"C\" => \"1000\"\n",
       "  \"ϵ\" => \"1011\"\n",
       "  \"δ\" => \"1100\"\n",
       "  \"B\" => \"1001\"\n",
       "  \"s\" => \"\"\n",
       "  \"A\" => \"001\"\n",
       "  \"ϕ\" => \"1101\"\n",
       "  \"D\" => \"1010\"\n",
       "  \"α\" => \"1110\"\n",
       "  \"E\" => \"010\"\n",
       "  \"γ\" => \"1111\"\n",
       "  \"I\" => \"011\"\n",
       "  \"β\" => \"000\""
      ]
     },
     "metadata": {},
     "output_type": "display_data"
    }
   ],
   "source": [
    "encoder"
   ]
  },
  {
   "cell_type": "code",
   "execution_count": 10,
   "metadata": {},
   "outputs": [
    {
     "data": {
      "text/plain": [
       "Dict{Any, Any} with 12 entries:\n",
       "  \"C\" => \"1000\"\n",
       "  \"ϵ\" => \"1011\"\n",
       "  \"δ\" => \"1100\"\n",
       "  \"B\" => \"1001\"\n",
       "  \"A\" => \"001\"\n",
       "  \"ϕ\" => \"1101\"\n",
       "  \"D\" => \"1010\"\n",
       "  \"α\" => \"1110\"\n",
       "  \"E\" => \"010\"\n",
       "  \"γ\" => \"1111\"\n",
       "  \"I\" => \"011\"\n",
       "  \"β\" => \"000\""
      ]
     },
     "metadata": {},
     "output_type": "display_data"
    }
   ],
   "source": [
    "delete!(encoder, \"s\")"
   ]
  },
  {
   "cell_type": "code",
   "execution_count": 22,
   "metadata": {},
   "outputs": [
    {
     "data": {
      "text/plain": [
       "12"
      ]
     },
     "metadata": {},
     "output_type": "display_data"
    }
   ],
   "source": [
    "length(encoder)"
   ]
  },
  {
   "cell_type": "code",
   "execution_count": 11,
   "metadata": {},
   "outputs": [
    {
     "data": {
      "text/plain": [
       "43//12"
      ]
     },
     "metadata": {},
     "output_type": "display_data"
    }
   ],
   "source": [
    "# encoder   : Dictionary encoding alphabet -> codeword\n",
    "# P         : Dictionary describing probability mass function (alphabet -> probability)\n",
    "expected_length(encoder, P) = sum([P[alphabet] * length(codeword) for (alphabet, codeword) in encoder])\n",
    "\n",
    "expected_length(encoder, P)"
   ]
  },
  {
   "cell_type": "code",
   "execution_count": 27,
   "metadata": {},
   "outputs": [
    {
     "data": {
      "text/plain": [
       "1//1"
      ]
     },
     "metadata": {},
     "output_type": "display_data"
    }
   ],
   "source": [
    "function mcmillan_inequality(encoder)\n",
    "    value = sum([ (2//1) ^ (-1 * length(codeword)) for (___, codeword) in encoder]);\n",
    "    return value\n",
    "end\n",
    "\n",
    "mcmillan_inequality(encoder)"
   ]
  },
  {
   "cell_type": "code",
   "execution_count": 12,
   "metadata": {},
   "outputs": [],
   "source": [
    "P_Y = Dict();\n",
    "P_Y[\"english\"] = 0;\n",
    "P_Y[\"greek\"] = 0;\n",
    "for alphabet in alphabets\n",
    "    if string(alphabet) ∈ english\n",
    "        P_Y[\"english\"] += P[alphabet];\n",
    "    elseif string(alphabet) ∈ greek\n",
    "        P_Y[\"greek\"] += P[alphabet];\n",
    "    end\n",
    "end"
   ]
  },
  {
   "cell_type": "code",
   "execution_count": 13,
   "metadata": {},
   "outputs": [
    {
     "data": {
      "text/plain": [
       "Dict{Any, Any} with 2 entries:\n",
       "  \"greek\"   => 1//2\n",
       "  \"english\" => 1//2"
      ]
     },
     "metadata": {},
     "output_type": "display_data"
    }
   ],
   "source": [
    "P_Y"
   ]
  },
  {
   "cell_type": "code",
   "execution_count": 21,
   "metadata": {},
   "outputs": [
    {
     "name": "stdout",
     "output_type": "stream",
     "text": [
      "Going left\n",
      "Going left\n",
      "Going left\n",
      "Successfuly Decoded: β\n",
      "Going left\n",
      "Going Right\n",
      "Going left\n",
      "Successfuly Decoded: E\n"
     ]
    },
    {
     "data": {
      "text/plain": [
       "\"βE\\0\""
      ]
     },
     "metadata": {},
     "output_type": "display_data"
    }
   ],
   "source": [
    "function decode_huffman(huffman_tree, codeword)\n",
    "    ans = \"\"\n",
    "    curr = huffman_tree\n",
    "\n",
    "    is_leaf(node) = isnothing(node.left) && isnothing(node.right)\n",
    "    for idx = 1:length(codeword)\n",
    "        if string(codeword[idx]) == \"0\" && ~( is_leaf(curr) )\n",
    "            println(\"Going left\")\n",
    "            curr = curr.left\n",
    "        elseif string(codeword[idx]) == \"1\" && ~( is_leaf(curr) )\n",
    "            println(\"Going Right\")\n",
    "            curr = curr.right\n",
    "        end\n",
    "\n",
    "        if is_leaf(curr)\n",
    "            println(\"Successfuly Decoded: $(curr.code)\")\n",
    "            ans *= curr.code\n",
    "            curr = huffman_tree\n",
    "        end\n",
    "    end\n",
    "\n",
    "    return ans * \"\\0\"\n",
    "end\n",
    "\n",
    "decode_huffman(huffman_tree, \"000010\")"
   ]
  },
  {
   "cell_type": "code",
   "execution_count": 15,
   "metadata": {},
   "outputs": [
    {
     "data": {
      "text/plain": [
       "huffman_node{String, Rational{Int64}}(\"s\", 1//1, huffman_node{String, Rational{Int64}}(\"s\", 5//12, huffman_node{String, Rational{Int64}}(\"s\", 7//36, huffman_node{String, Rational{Int64}}(\"β\", 1//12, nothing, nothing), huffman_node{String, Rational{Int64}}(\"A\", 1//9, nothing, nothing)), huffman_node{String, Rational{Int64}}(\"s\", 2//9, huffman_node{String, Rational{Int64}}(\"E\", 1//9, nothing, nothing), huffman_node{String, Rational{Int64}}(\"I\", 1//9, nothing, nothing))), huffman_node{String, Rational{Int64}}(\"s\", 7//12, huffman_node{String, Rational{Int64}}(\"s\", 1//4, huffman_node{String, Rational{Int64}}(\"s\", 1//9, huffman_node{String, Rational{Int64}}(\"C\", 1//18, nothing, nothing), huffman_node{String, Rational{Int64}}(\"B\", 1//18, nothing, nothing)), huffman_node{String, Rational{Int64}}(\"s\", 5//36, huffman_node{String, Rational{Int64}}(\"D\", 1//18, nothing, nothing), huffman_node{String, Rational{Int64}}(\"ϵ\", 1//12, nothing, nothing))), huffman_node{String, Rational{Int64}}(\"s\", 1//3, huffman_node{String, Rational{Int64}}(\"s\", 1//6, huffman_node{String, Rational{Int64}}(\"δ\", 1//12, nothing, nothing), huffman_node{String, Rational{Int64}}(\"ϕ\", 1//12, nothing, nothing)), huffman_node{String, Rational{Int64}}(\"s\", 1//6, huffman_node{String, Rational{Int64}}(\"α\", 1//12, nothing, nothing), huffman_node{String, Rational{Int64}}(\"γ\", 1//12, nothing, nothing)))))"
      ]
     },
     "metadata": {},
     "output_type": "display_data"
    }
   ],
   "source": [
    "huffman_tree"
   ]
  },
  {
   "cell_type": "code",
   "execution_count": null,
   "metadata": {},
   "outputs": [],
   "source": []
  }
 ],
 "metadata": {
  "kernelspec": {
   "display_name": "Julia 1.8.5",
   "language": "julia",
   "name": "julia-1.8"
  },
  "language_info": {
   "file_extension": ".jl",
   "mimetype": "application/julia",
   "name": "julia",
   "version": "1.8.5"
  },
  "orig_nbformat": 4
 },
 "nbformat": 4,
 "nbformat_minor": 2
}
